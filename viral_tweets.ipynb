{
 "cells": [
  {
   "cell_type": "markdown",
   "metadata": {},
   "source": [
    "# Viral Tweets\n",
    "\n",
    "Using K-Nearest Neighbor algorithm to predict whether a tweet will go viral.\n",
    "\n",
    "Some of these features are dictionaries. For example, the feature `\"user\"` is a dictionary. "
   ]
  },
  {
   "cell_type": "code",
   "execution_count": 1,
   "metadata": {},
   "outputs": [],
   "source": [
    "import pandas as pd\n",
    "import numpy as np\n",
    "import matplotlib.pyplot as plt\n",
    "import seaborn as sns\n",
    "from sklearn.feature_selection import mutual_info_classif\n",
    "from functools import partial\n",
    "from sklearn.feature_selection import SelectKBest\n",
    "from sklearn.preprocessing import StandardScaler\n",
    "from sklearn.preprocessing import scale\n",
    "from sklearn.model_selection import train_test_split\n",
    "from sklearn.neighbors import KNeighborsClassifier"
   ]
  },
  {
   "cell_type": "code",
   "execution_count": 2,
   "metadata": {},
   "outputs": [
    {
     "name": "stdout",
     "output_type": "stream",
     "text": [
      "                 created_at                   id               id_str  \\\n",
      "0 2018-07-31 13:34:40+00:00  1024287229525598210  1024287229525598208   \n",
      "1 2018-07-31 13:34:40+00:00  1024287229512953856  1024287229512953856   \n",
      "2 2018-07-31 13:34:40+00:00  1024287229504569344  1024287229504569344   \n",
      "3 2018-07-31 13:34:40+00:00  1024287229496029190  1024287229496029184   \n",
      "4 2018-07-31 13:34:40+00:00  1024287229492031490  1024287229492031488   \n",
      "\n",
      "                                                text  truncated  \\\n",
      "0  RT @KWWLStormTrack7: We are more than a month ...      False   \n",
      "1  @hail_ee23 Thanks love its just the feeling of...      False   \n",
      "2  RT @TransMediaWatch: Pink News has more on the...      False   \n",
      "3  RT @realDonaldTrump: One of the reasons we nee...      False   \n",
      "4  RT @First5App: This hearing of His Word doesn’...      False   \n",
      "\n",
      "                                            entities  \\\n",
      "0  {'hashtags': [], 'symbols': [], 'user_mentions...   \n",
      "1  {'hashtags': [], 'symbols': [], 'user_mentions...   \n",
      "2  {'hashtags': [], 'symbols': [], 'user_mentions...   \n",
      "3  {'hashtags': [], 'symbols': [], 'user_mentions...   \n",
      "4  {'hashtags': [], 'symbols': [], 'user_mentions...   \n",
      "\n",
      "                                            metadata  \\\n",
      "0  {'iso_language_code': 'en', 'result_type': 're...   \n",
      "1  {'iso_language_code': 'en', 'result_type': 're...   \n",
      "2  {'iso_language_code': 'en', 'result_type': 're...   \n",
      "3  {'iso_language_code': 'en', 'result_type': 're...   \n",
      "4  {'iso_language_code': 'en', 'result_type': 're...   \n",
      "\n",
      "                                              source  in_reply_to_status_id  \\\n",
      "0  <a href=\"http://twitter.com/download/android\" ...                    NaN   \n",
      "1  <a href=\"http://twitter.com/download/iphone\" r...           1.024128e+18   \n",
      "2  <a href=\"http://twitter.com/download/iphone\" r...                    NaN   \n",
      "3  <a href=\"http://twitter.com/download/android\" ...                    NaN   \n",
      "4  <a href=\"http://twitter.com/download/iphone\" r...                    NaN   \n",
      "\n",
      "   in_reply_to_status_id_str  ...  favorite_count  favorited retweeted lang  \\\n",
      "0                        NaN  ...               0      False     False   en   \n",
      "1               1.024128e+18  ...               0      False     False   en   \n",
      "2                        NaN  ...               0      False     False   en   \n",
      "3                        NaN  ...               0      False     False   en   \n",
      "4                        NaN  ...               0      False     False   en   \n",
      "\n",
      "  possibly_sensitive quoted_status_id quoted_status_id_str  extended_entities  \\\n",
      "0                NaN              NaN                  NaN                NaN   \n",
      "1                NaN              NaN                  NaN                NaN   \n",
      "2                0.0              NaN                  NaN                NaN   \n",
      "3                NaN              NaN                  NaN                NaN   \n",
      "4                NaN              NaN                  NaN                NaN   \n",
      "\n",
      "  quoted_status  withheld_in_countries  \n",
      "0           NaN                    NaN  \n",
      "1           NaN                    NaN  \n",
      "2           NaN                    NaN  \n",
      "3           NaN                    NaN  \n",
      "4           NaN                    NaN  \n",
      "\n",
      "[5 rows x 31 columns]\n",
      "11099\n",
      "Index(['created_at', 'id', 'id_str', 'text', 'truncated', 'entities',\n",
      "       'metadata', 'source', 'in_reply_to_status_id',\n",
      "       'in_reply_to_status_id_str', 'in_reply_to_user_id',\n",
      "       'in_reply_to_user_id_str', 'in_reply_to_screen_name', 'user', 'geo',\n",
      "       'coordinates', 'place', 'contributors', 'retweeted_status',\n",
      "       'is_quote_status', 'retweet_count', 'favorite_count', 'favorited',\n",
      "       'retweeted', 'lang', 'possibly_sensitive', 'quoted_status_id',\n",
      "       'quoted_status_id_str', 'extended_entities', 'quoted_status',\n",
      "       'withheld_in_countries'],\n",
      "      dtype='object')\n",
      "created_at                   datetime64[ns, UTC]\n",
      "id                                         int64\n",
      "id_str                                     int64\n",
      "text                                      object\n",
      "truncated                                   bool\n",
      "entities                                  object\n",
      "metadata                                  object\n",
      "source                                    object\n",
      "in_reply_to_status_id                    float64\n",
      "in_reply_to_status_id_str                float64\n",
      "in_reply_to_user_id                      float64\n",
      "in_reply_to_user_id_str                  float64\n",
      "in_reply_to_screen_name                   object\n",
      "user                                      object\n",
      "geo                                       object\n",
      "coordinates                               object\n",
      "place                                     object\n",
      "contributors                             float64\n",
      "retweeted_status                          object\n",
      "is_quote_status                             bool\n",
      "retweet_count                              int64\n",
      "favorite_count                             int64\n",
      "favorited                                   bool\n",
      "retweeted                                   bool\n",
      "lang                                      object\n",
      "possibly_sensitive                       float64\n",
      "quoted_status_id                         float64\n",
      "quoted_status_id_str                     float64\n",
      "extended_entities                         object\n",
      "quoted_status                             object\n",
      "withheld_in_countries                     object\n",
      "dtype: object\n",
      "<class 'pandas.core.frame.DataFrame'>\n",
      "RangeIndex: 11099 entries, 0 to 11098\n",
      "Data columns (total 31 columns):\n",
      " #   Column                     Non-Null Count  Dtype              \n",
      "---  ------                     --------------  -----              \n",
      " 0   created_at                 11099 non-null  datetime64[ns, UTC]\n",
      " 1   id                         11099 non-null  int64              \n",
      " 2   id_str                     11099 non-null  int64              \n",
      " 3   text                       11099 non-null  object             \n",
      " 4   truncated                  11099 non-null  bool               \n",
      " 5   entities                   11099 non-null  object             \n",
      " 6   metadata                   11099 non-null  object             \n",
      " 7   source                     11099 non-null  object             \n",
      " 8   in_reply_to_status_id      1402 non-null   float64            \n",
      " 9   in_reply_to_status_id_str  1402 non-null   float64            \n",
      " 10  in_reply_to_user_id        1503 non-null   float64            \n",
      " 11  in_reply_to_user_id_str    1503 non-null   float64            \n",
      " 12  in_reply_to_screen_name    1503 non-null   object             \n",
      " 13  user                       11099 non-null  object             \n",
      " 14  geo                        17 non-null     object             \n",
      " 15  coordinates                17 non-null     object             \n",
      " 16  place                      156 non-null    object             \n",
      " 17  contributors               0 non-null      float64            \n",
      " 18  retweeted_status           7372 non-null   object             \n",
      " 19  is_quote_status            11099 non-null  bool               \n",
      " 20  retweet_count              11099 non-null  int64              \n",
      " 21  favorite_count             11099 non-null  int64              \n",
      " 22  favorited                  11099 non-null  bool               \n",
      " 23  retweeted                  11099 non-null  bool               \n",
      " 24  lang                       11099 non-null  object             \n",
      " 25  possibly_sensitive         3192 non-null   float64            \n",
      " 26  quoted_status_id           1154 non-null   float64            \n",
      " 27  quoted_status_id_str       1154 non-null   float64            \n",
      " 28  extended_entities          1199 non-null   object             \n",
      " 29  quoted_status              327 non-null    object             \n",
      " 30  withheld_in_countries      2 non-null      object             \n",
      "dtypes: bool(4), datetime64[ns, UTC](1), float64(8), int64(4), object(14)\n",
      "memory usage: 2.3+ MB\n",
      "None\n",
      "created_at                                           2018-07-31 13:34:40+00:00\n",
      "id                                                         1024287229525598210\n",
      "id_str                                                     1024287229525598208\n",
      "text                         RT @KWWLStormTrack7: We are more than a month ...\n",
      "truncated                                                                False\n",
      "entities                     {'hashtags': [], 'symbols': [], 'user_mentions...\n",
      "metadata                     {'iso_language_code': 'en', 'result_type': 're...\n",
      "source                       <a href=\"http://twitter.com/download/android\" ...\n",
      "in_reply_to_status_id                                                      NaN\n",
      "in_reply_to_status_id_str                                                  NaN\n",
      "in_reply_to_user_id                                                        NaN\n",
      "in_reply_to_user_id_str                                                    NaN\n",
      "in_reply_to_screen_name                                                   None\n",
      "user                         {'id': 145388018, 'id_str': '145388018', 'name...\n",
      "geo                                                                       None\n",
      "coordinates                                                               None\n",
      "place                                                                     None\n",
      "contributors                                                               NaN\n",
      "retweeted_status             {'created_at': 'Mon Jul 30 16:49:41 +0000 2018...\n",
      "is_quote_status                                                          False\n",
      "retweet_count                                                                3\n",
      "favorite_count                                                               0\n",
      "favorited                                                                False\n",
      "retweeted                                                                False\n",
      "lang                                                                        en\n",
      "possibly_sensitive                                                         NaN\n",
      "quoted_status_id                                                           NaN\n",
      "quoted_status_id_str                                                       NaN\n",
      "extended_entities                                                          NaN\n",
      "quoted_status                                                              NaN\n",
      "withheld_in_countries                                                      NaN\n",
      "Name: 0, dtype: object\n",
      "Waterloo, Iowa\n",
      "RT @KWWLStormTrack7: We are more than a month into summer but the days are getting shorter. The sunrise is about 25 minutes later on July 3…\n"
     ]
    }
   ],
   "source": [
    "all_tweets = pd.read_json('random_tweets.json', lines=True)\n",
    "print(all_tweets.head())\n",
    "\n",
    "print(len(all_tweets))\n",
    "print(all_tweets.columns)\n",
    "print(all_tweets.dtypes)\n",
    "print(all_tweets.info())\n",
    "\n",
    "print(all_tweets.loc[0])\n",
    "print(all_tweets.loc[0]['user']['location'])\n",
    "print(all_tweets.loc[0]['text'])"
   ]
  },
  {
   "cell_type": "markdown",
   "metadata": {},
   "source": [
    "# Defining Viral Tweets\n",
    "\n",
    "So how do we define a viral tweet? A good place to start is to look at the number of retweets the tweet has. "
   ]
  },
  {
   "cell_type": "code",
   "execution_count": 3,
   "metadata": {},
   "outputs": [
    {
     "name": "stdout",
     "output_type": "stream",
     "text": [
      "13.0\n",
      "0        0\n",
      "1        0\n",
      "2        0\n",
      "3        1\n",
      "4        0\n",
      "        ..\n",
      "11094    1\n",
      "11095    1\n",
      "11096    0\n",
      "11097    0\n",
      "11098    0\n",
      "Name: is_viral, Length: 11099, dtype: int64\n",
      "0\n",
      "0    5562\n",
      "1    5537\n",
      "Name: is_viral, dtype: int64\n"
     ]
    }
   ],
   "source": [
    "median_retweet_count = all_tweets['retweet_count'].median()\n",
    "print(median_retweet_count)\n",
    "\n",
    "all_tweets['is_viral'] = np.where(all_tweets['retweet_count'] > median_retweet_count, 1, 0)\n",
    "print(all_tweets['is_viral'])\n",
    "print(all_tweets['retweet_count'].isna().sum())\n",
    "print(all_tweets['is_viral'].value_counts())\n",
    "\n",
    "labels = all_tweets['is_viral']"
   ]
  },
  {
   "cell_type": "markdown",
   "metadata": {},
   "source": [
    "# Making Features"
   ]
  },
  {
   "cell_type": "code",
   "execution_count": 4,
   "metadata": {},
   "outputs": [
    {
     "name": "stdout",
     "output_type": "stream",
     "text": [
      "0    140\n",
      "1     77\n",
      "2    140\n",
      "3    140\n",
      "4    140\n",
      "Name: tweet_length, dtype: int64\n",
      "0\n",
      "0     215\n",
      "1     199\n",
      "2     196\n",
      "3    3313\n",
      "4     125\n",
      "Name: followers_count, dtype: int64\n",
      "0\n",
      "0     335\n",
      "1     203\n",
      "2     558\n",
      "3    2272\n",
      "4     273\n",
      "Name: friends_count, dtype: int64\n",
      "0\n",
      "0     3419\n",
      "1     2136\n",
      "2    62560\n",
      "3    51818\n",
      "4     1332\n",
      "Name: favourites_count, dtype: int64\n",
      "0\n",
      "0    0\n",
      "1    0\n",
      "2    0\n",
      "3    0\n",
      "4    0\n",
      "Name: hashtag_count, dtype: int64\n",
      "0\n",
      "   favourites_count  friends_count  hashtag_count  tweet_length  \\\n",
      "0              3419            335              0           140   \n",
      "1              2136            203              0            77   \n",
      "2             62560            558              0           140   \n",
      "3             51818           2272              0           140   \n",
      "4              1332            273              0           140   \n",
      "\n",
      "   followers_count  \n",
      "0              215  \n",
      "1              199  \n",
      "2              196  \n",
      "3             3313  \n",
      "4              125  \n",
      "favourites_count    int64\n",
      "friends_count       int64\n",
      "hashtag_count       int64\n",
      "tweet_length        int64\n",
      "followers_count     int64\n",
      "dtype: object\n"
     ]
    }
   ],
   "source": [
    "all_tweets['tweet_length'] = all_tweets.apply(lambda tweet: len(tweet['text']), axis = 1)\n",
    "print(all_tweets['tweet_length'].head())\n",
    "print(all_tweets['tweet_length'].isna().sum())\n",
    "\n",
    "all_tweets['followers_count'] = all_tweets.apply(lambda tweet: tweet['user']['followers_count'], axis = 1)\n",
    "print(all_tweets['followers_count'].head())\n",
    "print(all_tweets['followers_count'].isna().sum())\n",
    "\n",
    "all_tweets['friends_count'] = all_tweets.apply(lambda tweet: tweet['user']['friends_count'], axis = 1)\n",
    "print(all_tweets['friends_count'].head())\n",
    "print(all_tweets['friends_count'].isna().sum())\n",
    "\n",
    "all_tweets['favourites_count'] = all_tweets.apply(lambda tweet: tweet['user']['favourites_count'], axis = 1)\n",
    "print(all_tweets['favourites_count'].head())\n",
    "print(all_tweets['favourites_count'].isna().sum())\n",
    "\n",
    "all_tweets['hashtag_count'] = all_tweets.apply(lambda tweet: tweet['text'].count('#'), axis = 1)\n",
    "print(all_tweets['hashtag_count'].head())\n",
    "print(all_tweets['hashtag_count'].isna().sum())\n",
    "\n",
    "data = all_tweets[['favourites_count', 'friends_count', 'hashtag_count', 'tweet_length', 'followers_count']]\n",
    "print(data.head())\n",
    "print(data.dtypes)"
   ]
  },
  {
   "cell_type": "markdown",
   "metadata": {},
   "source": [
    "# Correlation between features and target variable\n"
   ]
  },
  {
   "cell_type": "code",
   "execution_count": 5,
   "metadata": {},
   "outputs": [
    {
     "data": {
      "image/png": "[encoded data removed]",
      "text/plain": [
       "<Figure size 1152x360 with 2 Axes>"
      ]
     },
     "metadata": {
      "needs_background": "light"
     },
     "output_type": "display_data"
    },
    {
     "data": {
      "text/plain": [
       "<Figure size 432x288 with 0 Axes>"
      ]
     },
     "metadata": {},
     "output_type": "display_data"
    }
   ],
   "source": [
    "data = pd.DataFrame(data)\n",
    "corr_matrix = data.corr(method='pearson')\n",
    "plt.figure(figsize = (16,5))\n",
    "sns.heatmap(corr_matrix, annot=True, cmap='RdBu_r')\n",
    "plt.show()\n",
    "plt.clf()"
   ]
  },
  {
   "cell_type": "code",
   "execution_count": 6,
   "metadata": {},
   "outputs": [
    {
     "name": "stdout",
     "output_type": "stream",
     "text": [
      "friends_count favourites_count 0.0914604433520234\n",
      "tweet_length hashtag_count 0.09314752725006271\n"
     ]
    }
   ],
   "source": [
    "for i in range(len(corr_matrix.columns)):\n",
    "    for j in range(i):\n",
    "        if abs(corr_matrix.iloc[i, j]) > 0.09:\n",
    "            print(corr_matrix.columns[i], corr_matrix.columns[j], corr_matrix.iloc[i, j])"
   ]
  },
  {
   "cell_type": "code",
   "execution_count": 7,
   "metadata": {},
   "outputs": [
    {
     "name": "stdout",
     "output_type": "stream",
     "text": [
      "   favourites_count  friends_count  hashtag_count  tweet_length  \\\n",
      "0              3419            335              0           140   \n",
      "1              2136            203              0            77   \n",
      "2             62560            558              0           140   \n",
      "3             51818           2272              0           140   \n",
      "4              1332            273              0           140   \n",
      "\n",
      "   followers_count  is_viral  \n",
      "0              215         0  \n",
      "1              199         0  \n",
      "2              196         0  \n",
      "3             3313         1  \n",
      "4              125         0  \n",
      "11099\n",
      "favourites_count    0\n",
      "friends_count       0\n",
      "hashtag_count       0\n",
      "tweet_length        0\n",
      "followers_count     0\n",
      "is_viral            0\n",
      "dtype: int64\n"
     ]
    }
   ],
   "source": [
    "#correlation between features and target\n",
    "data_labels = data.copy()\n",
    "data_labels['is_viral'] = labels\n",
    "print(data_labels.head())\n",
    "print(len(data_labels))\n",
    "print(data_labels.isna().sum())"
   ]
  },
  {
   "cell_type": "code",
   "execution_count": 8,
   "metadata": {
    "scrolled": true
   },
   "outputs": [
    {
     "data": {
      "image/png": "[encoded data removed]",
      "text/plain": [
       "<Figure size 720x648 with 2 Axes>"
      ]
     },
     "metadata": {
      "needs_background": "light"
     },
     "output_type": "display_data"
    },
    {
     "data": {
      "text/plain": [
       "<Figure size 432x288 with 0 Axes>"
      ]
     },
     "metadata": {},
     "output_type": "display_data"
    }
   ],
   "source": [
    "data_labels_corr_matrix = data_labels.corr()\n",
    "corr_target = data_labels_corr_matrix[['is_viral']].drop(labels=['is_viral'])\n",
    "plt.figure(figsize = (10,9))\n",
    "sns.heatmap(corr_target, annot=True, fmt='.3', cmap='RdBu_r')\n",
    "plt.show()\n",
    "plt.clf()"
   ]
  },
  {
   "cell_type": "code",
   "execution_count": 9,
   "metadata": {},
   "outputs": [
    {
     "data": {
      "text/plain": [
       "array([0.03861087, 0.01730196, 0.        , 0.04351089, 0.01839652])"
      ]
     },
     "execution_count": 9,
     "metadata": {},
     "output_type": "execute_result"
    }
   ],
   "source": [
    "mutual_info_classif(data, labels, random_state=1)"
   ]
  },
  {
   "cell_type": "code",
   "execution_count": 10,
   "metadata": {},
   "outputs": [
    {
     "data": {
      "text/plain": [
       "array([[ 3419,   335,   140,   215],\n",
       "       [ 2136,   203,    77,   199],\n",
       "       [62560,   558,   140,   196],\n",
       "       ...,\n",
       "       [ 2262,    90,   140,   135],\n",
       "       [ 2073,   320,   140,    59],\n",
       "       [  543,  1697,    75,  1563]])"
      ]
     },
     "execution_count": 10,
     "metadata": {},
     "output_type": "execute_result"
    }
   ],
   "source": [
    "score_func = partial(mutual_info_classif, random_state=1)\n",
    "selection = SelectKBest(score_func=score_func, k=4)\n",
    "selection.fit_transform(data, labels)"
   ]
  },
  {
   "cell_type": "code",
   "execution_count": 11,
   "metadata": {},
   "outputs": [
    {
     "data": {
      "text/html": [
       "<div>\n",
       "<style scoped>\n",
       "    .dataframe tbody tr th:only-of-type {\n",
       "        vertical-align: middle;\n",
       "    }\n",
       "\n",
       "    .dataframe tbody tr th {\n",
       "        vertical-align: top;\n",
       "    }\n",
       "\n",
       "    .dataframe thead th {\n",
       "        text-align: right;\n",
       "    }\n",
       "</style>\n",
       "<table border=\"1\" class=\"dataframe\">\n",
       "  <thead>\n",
       "    <tr style=\"text-align: right;\">\n",
       "      <th></th>\n",
       "      <th>favourites_count</th>\n",
       "      <th>friends_count</th>\n",
       "      <th>tweet_length</th>\n",
       "      <th>followers_count</th>\n",
       "    </tr>\n",
       "  </thead>\n",
       "  <tbody>\n",
       "    <tr>\n",
       "      <th>0</th>\n",
       "      <td>3419</td>\n",
       "      <td>335</td>\n",
       "      <td>140</td>\n",
       "      <td>215</td>\n",
       "    </tr>\n",
       "    <tr>\n",
       "      <th>1</th>\n",
       "      <td>2136</td>\n",
       "      <td>203</td>\n",
       "      <td>77</td>\n",
       "      <td>199</td>\n",
       "    </tr>\n",
       "    <tr>\n",
       "      <th>2</th>\n",
       "      <td>62560</td>\n",
       "      <td>558</td>\n",
       "      <td>140</td>\n",
       "      <td>196</td>\n",
       "    </tr>\n",
       "    <tr>\n",
       "      <th>3</th>\n",
       "      <td>51818</td>\n",
       "      <td>2272</td>\n",
       "      <td>140</td>\n",
       "      <td>3313</td>\n",
       "    </tr>\n",
       "    <tr>\n",
       "      <th>4</th>\n",
       "      <td>1332</td>\n",
       "      <td>273</td>\n",
       "      <td>140</td>\n",
       "      <td>125</td>\n",
       "    </tr>\n",
       "    <tr>\n",
       "      <th>...</th>\n",
       "      <td>...</td>\n",
       "      <td>...</td>\n",
       "      <td>...</td>\n",
       "      <td>...</td>\n",
       "    </tr>\n",
       "    <tr>\n",
       "      <th>11094</th>\n",
       "      <td>17185</td>\n",
       "      <td>1323</td>\n",
       "      <td>140</td>\n",
       "      <td>509</td>\n",
       "    </tr>\n",
       "    <tr>\n",
       "      <th>11095</th>\n",
       "      <td>5007</td>\n",
       "      <td>1033</td>\n",
       "      <td>75</td>\n",
       "      <td>462</td>\n",
       "    </tr>\n",
       "    <tr>\n",
       "      <th>11096</th>\n",
       "      <td>2262</td>\n",
       "      <td>90</td>\n",
       "      <td>140</td>\n",
       "      <td>135</td>\n",
       "    </tr>\n",
       "    <tr>\n",
       "      <th>11097</th>\n",
       "      <td>2073</td>\n",
       "      <td>320</td>\n",
       "      <td>140</td>\n",
       "      <td>59</td>\n",
       "    </tr>\n",
       "    <tr>\n",
       "      <th>11098</th>\n",
       "      <td>543</td>\n",
       "      <td>1697</td>\n",
       "      <td>75</td>\n",
       "      <td>1563</td>\n",
       "    </tr>\n",
       "  </tbody>\n",
       "</table>\n",
       "<p>11099 rows × 4 columns</p>\n",
       "</div>"
      ],
      "text/plain": [
       "       favourites_count  friends_count  tweet_length  followers_count\n",
       "0                  3419            335           140              215\n",
       "1                  2136            203            77              199\n",
       "2                 62560            558           140              196\n",
       "3                 51818           2272           140             3313\n",
       "4                  1332            273           140              125\n",
       "...                 ...            ...           ...              ...\n",
       "11094             17185           1323           140              509\n",
       "11095              5007           1033            75              462\n",
       "11096              2262             90           140              135\n",
       "11097              2073            320           140               59\n",
       "11098               543           1697            75             1563\n",
       "\n",
       "[11099 rows x 4 columns]"
      ]
     },
     "execution_count": 11,
     "metadata": {},
     "output_type": "execute_result"
    }
   ],
   "source": [
    "data = data[data.columns[selection.get_support(indices=True)]]\n",
    "data"
   ]
  },
  {
   "cell_type": "markdown",
   "metadata": {},
   "source": [
    "# Standardizing The Data"
   ]
  },
  {
   "cell_type": "code",
   "execution_count": 12,
   "metadata": {},
   "outputs": [
    {
     "name": "stdout",
     "output_type": "stream",
     "text": [
      "[-0.40862785 -0.14483305  0.6164054  -0.02878298]\n"
     ]
    }
   ],
   "source": [
    "# scaler = StandardScaler()\n",
    "# data_reshaped = np.array(data).reshape(-1, 1)\n",
    "# data_scaled = scaler.fit_transform(data_reshaped)\n",
    "# print(np.mean(data_scaled))\n",
    "# print(np.std(data_scaled))\n",
    "# print(data_scaled)\n",
    "\n",
    "data_scaled = scale(data, axis=0)\n",
    "\n",
    "print(data_scaled[0])"
   ]
  },
  {
   "cell_type": "markdown",
   "metadata": {},
   "source": [
    "# Creating the Training Set and Test Set"
   ]
  },
  {
   "cell_type": "code",
   "execution_count": 13,
   "metadata": {},
   "outputs": [],
   "source": [
    "train_data, test_data, train_labels, test_labels = train_test_split(data_scaled, labels, test_size = 0.2, random_state = 42)"
   ]
  },
  {
   "cell_type": "markdown",
   "metadata": {},
   "source": [
    "# Using the Classifier"
   ]
  },
  {
   "cell_type": "code",
   "execution_count": 14,
   "metadata": {},
   "outputs": [
    {
     "name": "stdout",
     "output_type": "stream",
     "text": [
      "0.6108108108108108\n"
     ]
    }
   ],
   "source": [
    "classifier = KNeighborsClassifier(n_neighbors = 7)\n",
    "classifier.fit(train_data, train_labels)\n",
    "print(classifier.score(test_data, test_labels))"
   ]
  },
  {
   "cell_type": "markdown",
   "metadata": {},
   "source": [
    "# Choosing K"
   ]
  },
  {
   "cell_type": "code",
   "execution_count": 17,
   "metadata": {
    "scrolled": true
   },
   "outputs": [
    {
     "data": {
      "image/png": "[encoded data removed]",
      "text/plain": [
       "<Figure size 576x360 with 1 Axes>"
      ]
     },
     "metadata": {
      "needs_background": "light"
     },
     "output_type": "display_data"
    },
    {
     "data": {
      "text/plain": [
       "<Figure size 432x288 with 0 Axes>"
      ]
     },
     "metadata": {},
     "output_type": "display_data"
    }
   ],
   "source": [
    "scores = []\n",
    "for k in range(1, 50):\n",
    "    classifier = KNeighborsClassifier(n_neighbors = k)\n",
    "    classifier.fit(train_data, train_labels)\n",
    "    scores.append(classifier.score(test_data, test_labels))\n",
    "    \n",
    "plt.figure(figsize = (8,5))\n",
    "plt.plot(range(1,50), scores)\n",
    "plt.xlabel('k')\n",
    "plt.ylabel('Validation Accuracy')\n",
    "plt.title('Viral Tweets\\' Classifier Accuracy')\n",
    "plt.show()\n",
    "plt.clf()"
   ]
  },
  {
   "cell_type": "code",
   "execution_count": 18,
   "metadata": {},
   "outputs": [
    {
     "name": "stdout",
     "output_type": "stream",
     "text": [
      "0.6477477477477478\n"
     ]
    }
   ],
   "source": [
    "classifier = KNeighborsClassifier(n_neighbors = 39)\n",
    "classifier.fit(train_data, train_labels)\n",
    "print(classifier.score(test_data, test_labels))"
   ]
  }
 ],
 "metadata": {
  "kernelspec": {
   "display_name": "Python 3 (ipykernel)",
   "language": "python",
   "name": "python3"
  },
  "language_info": {
   "codemirror_mode": {
    "name": "ipython",
    "version": 3
   },
   "file_extension": ".py",
   "mimetype": "text/x-python",
   "name": "python",
   "nbconvert_exporter": "python",
   "pygments_lexer": "ipython3",
   "version": "3.9.12"
  }
 },
 "nbformat": 4,
 "nbformat_minor": 2
}
